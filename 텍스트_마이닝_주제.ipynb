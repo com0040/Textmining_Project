{
  "nbformat": 4,
  "nbformat_minor": 0,
  "metadata": {
    "colab": {
      "provenance": [],
      "authorship_tag": "ABX9TyMIktgWPVI8eMhD3vjphZ1s",
      "include_colab_link": true
    },
    "kernelspec": {
      "name": "python3",
      "display_name": "Python 3"
    },
    "language_info": {
      "name": "python"
    }
  },
  "cells": [
    {
      "cell_type": "markdown",
      "metadata": {
        "id": "view-in-github",
        "colab_type": "text"
      },
      "source": [
        "<a href=\"https://colab.research.google.com/github/com0040/textmining_mini_project/blob/main/%ED%85%8D%EC%8A%A4%ED%8A%B8_%EB%A7%88%EC%9D%B4%EB%8B%9D_%EC%A3%BC%EC%A0%9C.ipynb\" target=\"_parent\"><img src=\"https://colab.research.google.com/assets/colab-badge.svg\" alt=\"Open In Colab\"/></a>"
      ]
    },
    {
      "cell_type": "markdown",
      "source": [
        "텍스트 마이닝 주제\n",
        "\n",
        "1.  데이터 : 맛집 사이트, 위키백과, 관광지, 쇼핑몰, 소셜커머스, 뉴스기사, 인터뷰, \n",
        "\n",
        "2. 분석 기법 : 문서 분류, 감성 분석, 토픽 모델링, 문서요약\n",
        "\n",
        "    문서 분류 : 문서의 카테고리를 예측\n",
        "\n",
        "    감성 분석 : 극 / 부정과 같은 sentimental 카테고리를 예측\n",
        "\n",
        "    토픽 모델링 : 다수 글의 주제를 추론\n",
        "\n",
        "    문서 요약 : 문서 전체의 핵심 내용을 추론 / 요약\n",
        "\n",
        "3. 데이터 + 분석 기법 \n",
        "\n",
        "    ex) \n",
        "    1. 맛집 리뷰 + 감성분석 : 맛집리뷰 실질 만족도 분석을 통한 찐맛집 추천 서비스\n",
        "    2. 소셜커머스 리뷰 + 감성분석 : 쿠팡 리뷰 학습을 통한 마켓컬리 리뷰 실질 만족도 평가\n",
        "    \n",
        "\n",
        "- 발표 = ppt ( 포트폴리오 )\n",
        "\n"
      ],
      "metadata": {
        "id": "1dLzy9TbJTcD"
      }
    },
    {
      "cell_type": "code",
      "execution_count": null,
      "metadata": {
        "id": "XqSpjDwIJRHn"
      },
      "outputs": [],
      "source": []
    }
  ]
}